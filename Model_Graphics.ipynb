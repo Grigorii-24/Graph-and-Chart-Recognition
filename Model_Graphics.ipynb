{
  "nbformat": 4,
  "nbformat_minor": 0,
  "metadata": {
    "kernelspec": {
      "display_name": "Python 3",
      "language": "python",
      "name": "python3"
    },
    "language_info": {
      "codemirror_mode": {
        "name": "ipython",
        "version": 3
      },
      "file_extension": ".py",
      "mimetype": "text/x-python",
      "name": "python",
      "nbconvert_exporter": "python",
      "pygments_lexer": "ipython3",
      "version": "3.7.4"
    },
    "colab": {
      "name": "Model Graphics.ipynb",
      "provenance": []
    }
  },
  "cells": [
    {
      "cell_type": "markdown",
      "metadata": {
        "id": "BW8k0Xd--KIu"
      },
      "source": [
        "# Library initialization"
      ]
    },
    {
      "cell_type": "code",
      "metadata": {
        "id": "s5BFk_cq-KIw"
      },
      "source": [
        "import numpy as np\n",
        "import pandas as pd\n",
        "import torch\n",
        "import random\n",
        "import torch.nn as nn\n",
        "import torch.optim as optim\n",
        "import torch.nn.functional as F\n",
        "import os\n",
        "import shutil\n",
        "import cv2\n",
        "import time\n",
        "import torchvision\n",
        "from PIL import Image\n",
        "from tqdm import tqdm\n",
        "from torch.utils.data import Dataset, DataLoader, random_split\n",
        "import albumentations \n",
        "from albumentations.pytorch import ToTensorV2 as AT\n",
        "\n",
        "\n",
        "import matplotlib.pyplot as plt"
      ],
      "execution_count": null,
      "outputs": []
    },
    {
      "cell_type": "code",
      "metadata": {
        "id": "1Gce-rHo-KI2",
        "outputId": "47a13836-2ce1-43a3-f734-d00c730ef2e0"
      },
      "source": [
        "PATH = 'yandex/'\n",
        "train_path=list()\n",
        "for directory in os.listdir(PATH):\n",
        "    train_path.append(os.path.join(PATH, directory))\n",
        "    \n",
        "test_path = (\"test/\")\n",
        "\n",
        "train_list=list()\n",
        "for directory in train_path:\n",
        "    for pic in os.listdir(directory):\n",
        "        train_list.append(directory+'/'+pic)\n",
        "\n",
        "test_list=list()\n",
        "for pic in os.listdir(test_path):\n",
        "    test_list.append(test_path+pic)\n",
        "print(len(train_list), len(test_list))"
      ],
      "execution_count": null,
      "outputs": [
        {
          "output_type": "stream",
          "text": [
            "17057 1753\n"
          ],
          "name": "stdout"
        }
      ]
    },
    {
      "cell_type": "code",
      "metadata": {
        "id": "iE0axx0d-KI9"
      },
      "source": [
        "class ChartsDataset(Dataset):\n",
        "    \n",
        "    def __init__(self, path, img_list, transform=None, mode='train'):\n",
        "        self.path = path\n",
        "        self.img_list = img_list\n",
        "        self.transform = transform\n",
        "        self.mode = mode\n",
        "    \n",
        "    def __len__(self):\n",
        "        return len(self.img_list)\n",
        "    \n",
        "    def __getitem__(self, idx):\n",
        "        image_name = self.img_list[idx]\n",
        "        \n",
        "        if image_name.split(\".\")[-1] == \"gif\":\n",
        "           gif = cv2.VideoCapture(self.path + image_name)\n",
        "           _, image = gif.read()\n",
        "        else:\n",
        "            image = cv2.imread(self.path + image_name)\n",
        "            \n",
        "        image = cv2.cvtColor(image, cv2.COLOR_BGR2RGB)\n",
        "        \n",
        "        # Distribution of pictures into categories\n",
        "\n",
        "        if \"bar_chart\" in image_name:\n",
        "            label = 1\n",
        "        elif \"diagram\" in image_name:\n",
        "            label = 2\n",
        "        elif \"flow_chart\" in image_name:\n",
        "            label = 3\n",
        "        elif \"graph\" in image_name:\n",
        "            label = 4\n",
        "        elif \"growth_chart\" in image_name:\n",
        "            label = 5\n",
        "        elif \"pie_chart\" in image_name:\n",
        "            label = 6\n",
        "        elif \"table\" in image_name:\n",
        "            label = 7\n",
        "        else:\n",
        "            label = 0 #just_image\n",
        "            \n",
        "        if self.transform:\n",
        "            augmented = self.transform(image=image)\n",
        "            image = augmented[\"image\"]\n",
        "        \n",
        "        if self.mode == \"train\":\n",
        "            return image, label\n",
        "        else:\n",
        "            return image, image_name"
      ],
      "execution_count": null,
      "outputs": []
    },
    {
      "cell_type": "code",
      "metadata": {
        "id": "_YEXqwhF-KJC"
      },
      "source": [
        "batch_size = 64\n",
        "num_workers = os.cpu_count()\n",
        "img_size = 256"
      ],
      "execution_count": null,
      "outputs": []
    },
    {
      "cell_type": "code",
      "metadata": {
        "id": "la3ZTY1Y-KJG"
      },
      "source": [
        "# Since the data is not sufficiently applicable augmentation\n",
        "data_transforms = albumentations.Compose([\n",
        "    albumentations.Resize(img_size, img_size),\n",
        "    albumentations.CLAHE(),\n",
        "    albumentations.ChannelShuffle(),\n",
        "    albumentations.Downscale(),\n",
        "    albumentations.Cutout(),\n",
        "    albumentations.ShiftScaleRotate(),\n",
        "    albumentations.Normalize(),\n",
        "    AT()\n",
        "    ])\n",
        "\n",
        "\n",
        "data_transforms_test = albumentations.Compose([\n",
        "    albumentations.Resize(img_size, img_size),\n",
        "    albumentations.Normalize(),\n",
        "    AT()\n",
        "    ])"
      ],
      "execution_count": null,
      "outputs": []
    },
    {
      "cell_type": "code",
      "metadata": {
        "id": "Y5F50FxD-KJL"
      },
      "source": [
        "# Initialize datasets\n",
        "trainset = ChartsDataset('./', train_list,  transform=data_transforms)\n",
        "testset = ChartsDataset('./', test_list,  transform=data_transforms_test, mode=\"test\")"
      ],
      "execution_count": null,
      "outputs": []
    },
    {
      "cell_type": "code",
      "metadata": {
        "id": "GOJ0tDxk-KJP"
      },
      "source": [
        "valid_size = int(len(train_list) * 0.1)\n",
        "train_set, valid_set = torch.utils.data.random_split(trainset, \n",
        "                                    (len(train_list)-valid_size, valid_size))"
      ],
      "execution_count": null,
      "outputs": []
    },
    {
      "cell_type": "code",
      "metadata": {
        "id": "R3rW-ovE-KJU"
      },
      "source": [
        "trainloader = torch.utils.data.DataLoader(train_set, pin_memory=True, \n",
        "                                        batch_size=batch_size, shuffle=True, #Remember to shuffle data\n",
        "                                        num_workers = num_workers)\n",
        "\n",
        "validloader = torch.utils.data.DataLoader(valid_set, pin_memory=True, \n",
        "                                        batch_size=batch_size, shuffle=True,\n",
        "                                        num_workers = num_workers)\n",
        "\n",
        "testloader = torch.utils.data.DataLoader(testset, batch_size = batch_size,\n",
        "                                         num_workers = num_workers)"
      ],
      "execution_count": null,
      "outputs": []
    },
    {
      "cell_type": "code",
      "metadata": {
        "id": "RUX8B9H7-KJX",
        "outputId": "3e6f63d3-4b74-4887-8752-d0ce1a9504be"
      },
      "source": [
        "device = torch.device(\"cuda:0\" if torch.cuda.is_available() else \"cpu\") #Translate learning to the GPU for faster learning\n",
        "device"
      ],
      "execution_count": null,
      "outputs": [
        {
          "output_type": "execute_result",
          "data": {
            "text/plain": [
              "device(type='cuda', index=0)"
            ]
          },
          "metadata": {
            "tags": []
          },
          "execution_count": 10
        }
      ]
    },
    {
      "cell_type": "markdown",
      "metadata": {
        "id": "Ex-Pi6gz-KJc"
      },
      "source": [
        "# Model creation"
      ]
    },
    {
      "cell_type": "code",
      "metadata": {
        "id": "ZqxkFpfj-KJd"
      },
      "source": [
        "model = torchvision.models.resnet152(pretrained=True, progress=True)"
      ],
      "execution_count": null,
      "outputs": []
    },
    {
      "cell_type": "code",
      "metadata": {
        "id": "utma3msI-KJh"
      },
      "source": [
        "for param in model.parameters():\n",
        "    param.requires_grad = False\n",
        "\n",
        "in_features = model.fc.in_features"
      ],
      "execution_count": null,
      "outputs": []
    },
    {
      "cell_type": "code",
      "metadata": {
        "id": "TMT4cgGP-KJn"
      },
      "source": [
        "model.fc = nn.Sequential(nn.Linear(in_features, 1024),\n",
        "                         nn.Linear(1024,8))"
      ],
      "execution_count": null,
      "outputs": []
    },
    {
      "cell_type": "code",
      "metadata": {
        "id": "4AfSlFvq-KKE"
      },
      "source": [
        "def train_model(model_conv, train_loader, valid_loader, criterion, optimizer, sheduler, n_epochs):\n",
        "    model_conv.to(device)\n",
        "    valid_loss_min = np.Inf\n",
        "    patience = 10\n",
        "    p = 0\n",
        "    # Determine how many epochs we wait for before turning off, otherwise we stop learning.\n",
        "    stop = False\n",
        "\n",
        "    # количество эпох\n",
        "    for epoch in range(1, n_epochs+1):\n",
        "        print(time.ctime(), 'Epoch:', epoch)\n",
        "\n",
        "        train_loss = []\n",
        "\n",
        "        for batch_i, (data, target) in enumerate(tqdm(train_loader)):\n",
        "            data, target = data.to(device), target.to(device)\n",
        "            optimizer.zero_grad()\n",
        "            output = model_conv(data)\n",
        "            loss = criterion(output, target)\n",
        "            train_loss.append(loss.item())\n",
        "            loss.backward()\n",
        "            optimizer.step()\n",
        "        # Run validation\n",
        "        model_conv.eval()\n",
        "        val_loss = []\n",
        "        for batch_i, (data, target) in enumerate(valid_loader):\n",
        "            data, target = data.to(device), target.to(device)\n",
        "            output = model_conv(data)\n",
        "            loss = criterion(output, target)\n",
        "            val_loss.append(loss.item()) \n",
        "\n",
        "        print(f'Epoch {epoch}, train loss: {np.mean(train_loss):.4f}, valid loss: {np.mean(val_loss):.4f}.')\n",
        "\n",
        "        valid_loss = np.mean(val_loss)\n",
        "        scheduler.step(valid_loss)\n",
        "        if valid_loss <= valid_loss_min:\n",
        "            print('Validation loss decreased ({:.6f} --> {:.6f}).  Saving model ...'.format(\n",
        "            valid_loss_min,\n",
        "            valid_loss))\n",
        "            torch.save(model_conv.state_dict(), 'model.pt')\n",
        "            valid_loss_min = valid_loss\n",
        "            p = 0\n",
        "\n",
        "        # Checking data\n",
        "        if valid_loss > valid_loss_min:\n",
        "            p += 1\n",
        "            print(f'{p} epochs of increasing val loss')\n",
        "            if p > patience:\n",
        "                print('Stopping training')\n",
        "                stop = True\n",
        "                break        \n",
        "\n",
        "    return model_conv, train_loss, val_loss"
      ],
      "execution_count": null,
      "outputs": []
    },
    {
      "cell_type": "code",
      "metadata": {
        "id": "1KbqLvuJ-KKS"
      },
      "source": [
        "criterion = nn.CrossEntropyLoss()\n",
        "optimizer = torch.optim.Adam(model.parameters(), lr=0.0007)\n",
        "scheduler = torch.optim.lr_scheduler.ReduceLROnPlateau(optimizer, factor=0.8, patience=3,)"
      ],
      "execution_count": null,
      "outputs": []
    },
    {
      "cell_type": "markdown",
      "metadata": {
        "id": "IqF6-80y-KKW"
      },
      "source": [
        "# Trainig"
      ]
    },
    {
      "cell_type": "code",
      "metadata": {
        "scrolled": true,
        "id": "roiAjNMi-KKW",
        "outputId": "3ce3cde7-0d4a-4dcd-b969-45fd2c0a395f"
      },
      "source": [
        "model_resnet, train_loss, val_loss = train_model(model, trainloader, validloader, criterion, \n",
        "                              optimizer, scheduler, n_epochs=80,)"
      ],
      "execution_count": null,
      "outputs": [
        {
          "output_type": "stream",
          "text": [
            "\r  0%|          | 0/240 [00:00<?, ?it/s]"
          ],
          "name": "stderr"
        },
        {
          "output_type": "stream",
          "text": [
            "Mon Mar  2 15:46:47 2020 Epoch: 1\n"
          ],
          "name": "stdout"
        },
        {
          "output_type": "stream",
          "text": [
            "100%|██████████| 240/240 [03:18<00:00,  1.21it/s]\n"
          ],
          "name": "stderr"
        },
        {
          "output_type": "stream",
          "text": [
            "Epoch 1, train loss: 0.6156, valid loss: 0.3697.\n",
            "Validation loss decreased (inf --> 0.369712).  Saving model ...\n"
          ],
          "name": "stdout"
        },
        {
          "output_type": "stream",
          "text": [
            "\r  0%|          | 0/240 [00:00<?, ?it/s]"
          ],
          "name": "stderr"
        },
        {
          "output_type": "stream",
          "text": [
            "Mon Mar  2 15:50:31 2020 Epoch: 2\n"
          ],
          "name": "stdout"
        },
        {
          "output_type": "stream",
          "text": [
            "100%|██████████| 240/240 [03:07<00:00,  1.28it/s]\n"
          ],
          "name": "stderr"
        },
        {
          "output_type": "stream",
          "text": [
            "Epoch 2, train loss: 0.3505, valid loss: 0.3023.\n",
            "Validation loss decreased (0.369712 --> 0.302332).  Saving model ...\n"
          ],
          "name": "stdout"
        },
        {
          "output_type": "stream",
          "text": [
            "\r  0%|          | 0/240 [00:00<?, ?it/s]"
          ],
          "name": "stderr"
        },
        {
          "output_type": "stream",
          "text": [
            "Mon Mar  2 15:54:01 2020 Epoch: 3\n"
          ],
          "name": "stdout"
        },
        {
          "output_type": "stream",
          "text": [
            "100%|██████████| 240/240 [03:07<00:00,  1.28it/s]\n",
            "  0%|          | 0/240 [00:00<?, ?it/s]"
          ],
          "name": "stderr"
        },
        {
          "output_type": "stream",
          "text": [
            "Epoch 3, train loss: 0.3282, valid loss: 0.3094.\n",
            "1 epochs of increasing val loss\n",
            "Mon Mar  2 15:57:30 2020 Epoch: 4\n"
          ],
          "name": "stdout"
        },
        {
          "output_type": "stream",
          "text": [
            "100%|██████████| 240/240 [03:07<00:00,  1.28it/s]\n"
          ],
          "name": "stderr"
        },
        {
          "output_type": "stream",
          "text": [
            "Epoch 4, train loss: 0.3037, valid loss: 0.2689.\n",
            "Validation loss decreased (0.302332 --> 0.268940).  Saving model ...\n"
          ],
          "name": "stdout"
        },
        {
          "output_type": "stream",
          "text": [
            "\r  0%|          | 0/240 [00:00<?, ?it/s]"
          ],
          "name": "stderr"
        },
        {
          "output_type": "stream",
          "text": [
            "Mon Mar  2 16:01:01 2020 Epoch: 5\n"
          ],
          "name": "stdout"
        },
        {
          "output_type": "stream",
          "text": [
            "100%|██████████| 240/240 [03:07<00:00,  1.28it/s]\n",
            "  0%|          | 0/240 [00:00<?, ?it/s]"
          ],
          "name": "stderr"
        },
        {
          "output_type": "stream",
          "text": [
            "Epoch 5, train loss: 0.3020, valid loss: 0.3065.\n",
            "1 epochs of increasing val loss\n",
            "Mon Mar  2 16:04:30 2020 Epoch: 6\n"
          ],
          "name": "stdout"
        },
        {
          "output_type": "stream",
          "text": [
            "100%|██████████| 240/240 [03:06<00:00,  1.28it/s]\n",
            "  0%|          | 0/240 [00:00<?, ?it/s]"
          ],
          "name": "stderr"
        },
        {
          "output_type": "stream",
          "text": [
            "Epoch 6, train loss: 0.2896, valid loss: 0.2757.\n",
            "2 epochs of increasing val loss\n",
            "Mon Mar  2 16:07:59 2020 Epoch: 7\n"
          ],
          "name": "stdout"
        },
        {
          "output_type": "stream",
          "text": [
            "100%|██████████| 240/240 [03:06<00:00,  1.28it/s]\n"
          ],
          "name": "stderr"
        },
        {
          "output_type": "stream",
          "text": [
            "Epoch 7, train loss: 0.2862, valid loss: 0.2473.\n",
            "Validation loss decreased (0.268940 --> 0.247281).  Saving model ...\n"
          ],
          "name": "stdout"
        },
        {
          "output_type": "stream",
          "text": [
            "\r  0%|          | 0/240 [00:00<?, ?it/s]"
          ],
          "name": "stderr"
        },
        {
          "output_type": "stream",
          "text": [
            "Mon Mar  2 16:11:29 2020 Epoch: 8\n"
          ],
          "name": "stdout"
        },
        {
          "output_type": "stream",
          "text": [
            "100%|██████████| 240/240 [03:06<00:00,  1.29it/s]\n",
            "  0%|          | 0/240 [00:00<?, ?it/s]"
          ],
          "name": "stderr"
        },
        {
          "output_type": "stream",
          "text": [
            "Epoch 8, train loss: 0.2986, valid loss: 0.2917.\n",
            "1 epochs of increasing val loss\n",
            "Mon Mar  2 16:14:58 2020 Epoch: 9\n"
          ],
          "name": "stdout"
        },
        {
          "output_type": "stream",
          "text": [
            "100%|██████████| 240/240 [03:07<00:00,  1.28it/s]\n",
            "  0%|          | 0/240 [00:00<?, ?it/s]"
          ],
          "name": "stderr"
        },
        {
          "output_type": "stream",
          "text": [
            "Epoch 9, train loss: 0.2753, valid loss: 0.2739.\n",
            "2 epochs of increasing val loss\n",
            "Mon Mar  2 16:18:28 2020 Epoch: 10\n"
          ],
          "name": "stdout"
        },
        {
          "output_type": "stream",
          "text": [
            "100%|██████████| 240/240 [03:07<00:00,  1.28it/s]\n",
            "  0%|          | 0/240 [00:00<?, ?it/s]"
          ],
          "name": "stderr"
        },
        {
          "output_type": "stream",
          "text": [
            "Epoch 10, train loss: 0.2682, valid loss: 0.2871.\n",
            "3 epochs of increasing val loss\n",
            "Mon Mar  2 16:21:57 2020 Epoch: 11\n"
          ],
          "name": "stdout"
        },
        {
          "output_type": "stream",
          "text": [
            "100%|██████████| 240/240 [03:07<00:00,  1.28it/s]\n",
            "  0%|          | 0/240 [00:00<?, ?it/s]"
          ],
          "name": "stderr"
        },
        {
          "output_type": "stream",
          "text": [
            "Epoch 11, train loss: 0.2684, valid loss: 0.2602.\n",
            "4 epochs of increasing val loss\n",
            "Mon Mar  2 16:25:26 2020 Epoch: 12\n"
          ],
          "name": "stdout"
        },
        {
          "output_type": "stream",
          "text": [
            "100%|██████████| 240/240 [03:06<00:00,  1.29it/s]\n",
            "  0%|          | 0/240 [00:00<?, ?it/s]"
          ],
          "name": "stderr"
        },
        {
          "output_type": "stream",
          "text": [
            "Epoch 12, train loss: 0.2548, valid loss: 0.2528.\n",
            "5 epochs of increasing val loss\n",
            "Mon Mar  2 16:28:54 2020 Epoch: 13\n"
          ],
          "name": "stdout"
        },
        {
          "output_type": "stream",
          "text": [
            "100%|██████████| 240/240 [03:06<00:00,  1.29it/s]\n"
          ],
          "name": "stderr"
        },
        {
          "output_type": "stream",
          "text": [
            "Epoch 13, train loss: 0.2458, valid loss: 0.2449.\n",
            "Validation loss decreased (0.247281 --> 0.244897).  Saving model ...\n"
          ],
          "name": "stdout"
        },
        {
          "output_type": "stream",
          "text": [
            "\r  0%|          | 0/240 [00:00<?, ?it/s]"
          ],
          "name": "stderr"
        },
        {
          "output_type": "stream",
          "text": [
            "Mon Mar  2 16:32:24 2020 Epoch: 14\n"
          ],
          "name": "stdout"
        },
        {
          "output_type": "stream",
          "text": [
            "100%|██████████| 240/240 [03:06<00:00,  1.28it/s]\n",
            "  0%|          | 0/240 [00:00<?, ?it/s]"
          ],
          "name": "stderr"
        },
        {
          "output_type": "stream",
          "text": [
            "Epoch 14, train loss: 0.2420, valid loss: 0.2628.\n",
            "1 epochs of increasing val loss\n",
            "Mon Mar  2 16:35:53 2020 Epoch: 15\n"
          ],
          "name": "stdout"
        },
        {
          "output_type": "stream",
          "text": [
            "100%|██████████| 240/240 [03:06<00:00,  1.29it/s]\n"
          ],
          "name": "stderr"
        },
        {
          "output_type": "stream",
          "text": [
            "Epoch 15, train loss: 0.2560, valid loss: 0.2214.\n",
            "Validation loss decreased (0.244897 --> 0.221356).  Saving model ...\n"
          ],
          "name": "stdout"
        },
        {
          "output_type": "stream",
          "text": [
            "\r  0%|          | 0/240 [00:00<?, ?it/s]"
          ],
          "name": "stderr"
        },
        {
          "output_type": "stream",
          "text": [
            "Mon Mar  2 16:39:23 2020 Epoch: 16\n"
          ],
          "name": "stdout"
        },
        {
          "output_type": "stream",
          "text": [
            "100%|██████████| 240/240 [03:06<00:00,  1.29it/s]\n",
            "  0%|          | 0/240 [00:00<?, ?it/s]"
          ],
          "name": "stderr"
        },
        {
          "output_type": "stream",
          "text": [
            "Epoch 16, train loss: 0.2358, valid loss: 0.2382.\n",
            "1 epochs of increasing val loss\n",
            "Mon Mar  2 16:42:52 2020 Epoch: 17\n"
          ],
          "name": "stdout"
        },
        {
          "output_type": "stream",
          "text": [
            "100%|██████████| 240/240 [03:06<00:00,  1.29it/s]\n"
          ],
          "name": "stderr"
        },
        {
          "output_type": "stream",
          "text": [
            "Epoch 17, train loss: 0.2332, valid loss: 0.2195.\n",
            "Validation loss decreased (0.221356 --> 0.219492).  Saving model ...\n"
          ],
          "name": "stdout"
        },
        {
          "output_type": "stream",
          "text": [
            "\r  0%|          | 0/240 [00:00<?, ?it/s]"
          ],
          "name": "stderr"
        },
        {
          "output_type": "stream",
          "text": [
            "Mon Mar  2 16:46:22 2020 Epoch: 18\n"
          ],
          "name": "stdout"
        },
        {
          "output_type": "stream",
          "text": [
            "100%|██████████| 240/240 [03:06<00:00,  1.29it/s]\n",
            "  0%|          | 0/240 [00:00<?, ?it/s]"
          ],
          "name": "stderr"
        },
        {
          "output_type": "stream",
          "text": [
            "Epoch 18, train loss: 0.2419, valid loss: 0.2651.\n",
            "1 epochs of increasing val loss\n",
            "Mon Mar  2 16:49:50 2020 Epoch: 19\n"
          ],
          "name": "stdout"
        },
        {
          "output_type": "stream",
          "text": [
            "100%|██████████| 240/240 [03:06<00:00,  1.29it/s]\n",
            "  0%|          | 0/240 [00:00<?, ?it/s]"
          ],
          "name": "stderr"
        },
        {
          "output_type": "stream",
          "text": [
            "Epoch 19, train loss: 0.2455, valid loss: 0.2263.\n",
            "2 epochs of increasing val loss\n",
            "Mon Mar  2 16:53:19 2020 Epoch: 20\n"
          ],
          "name": "stdout"
        },
        {
          "output_type": "stream",
          "text": [
            "100%|██████████| 240/240 [03:06<00:00,  1.29it/s]\n",
            "  0%|          | 0/240 [00:00<?, ?it/s]"
          ],
          "name": "stderr"
        },
        {
          "output_type": "stream",
          "text": [
            "Epoch 20, train loss: 0.2358, valid loss: 0.2221.\n",
            "3 epochs of increasing val loss\n",
            "Mon Mar  2 16:56:48 2020 Epoch: 21\n"
          ],
          "name": "stdout"
        },
        {
          "output_type": "stream",
          "text": [
            "100%|██████████| 240/240 [03:06<00:00,  1.29it/s]\n",
            "  0%|          | 0/240 [00:00<?, ?it/s]"
          ],
          "name": "stderr"
        },
        {
          "output_type": "stream",
          "text": [
            "Epoch 21, train loss: 0.2416, valid loss: 0.2442.\n",
            "4 epochs of increasing val loss\n",
            "Mon Mar  2 17:00:17 2020 Epoch: 22\n"
          ],
          "name": "stdout"
        },
        {
          "output_type": "stream",
          "text": [
            "100%|██████████| 240/240 [03:06<00:00,  1.29it/s]\n",
            "  0%|          | 0/240 [00:00<?, ?it/s]"
          ],
          "name": "stderr"
        },
        {
          "output_type": "stream",
          "text": [
            "Epoch 22, train loss: 0.2205, valid loss: 0.2260.\n",
            "5 epochs of increasing val loss\n",
            "Mon Mar  2 17:03:45 2020 Epoch: 23\n"
          ],
          "name": "stdout"
        },
        {
          "output_type": "stream",
          "text": [
            "100%|██████████| 240/240 [03:06<00:00,  1.29it/s]\n",
            "  0%|          | 0/240 [00:00<?, ?it/s]"
          ],
          "name": "stderr"
        },
        {
          "output_type": "stream",
          "text": [
            "Epoch 23, train loss: 0.2169, valid loss: 0.2284.\n",
            "6 epochs of increasing val loss\n",
            "Mon Mar  2 17:07:13 2020 Epoch: 24\n"
          ],
          "name": "stdout"
        },
        {
          "output_type": "stream",
          "text": [
            "100%|██████████| 240/240 [03:06<00:00,  1.29it/s]\n"
          ],
          "name": "stderr"
        },
        {
          "output_type": "stream",
          "text": [
            "Epoch 24, train loss: 0.2099, valid loss: 0.2078.\n",
            "Validation loss decreased (0.219492 --> 0.207761).  Saving model ...\n"
          ],
          "name": "stdout"
        },
        {
          "output_type": "stream",
          "text": [
            "\r  0%|          | 0/240 [00:00<?, ?it/s]"
          ],
          "name": "stderr"
        },
        {
          "output_type": "stream",
          "text": [
            "Mon Mar  2 17:10:44 2020 Epoch: 25\n"
          ],
          "name": "stdout"
        },
        {
          "output_type": "stream",
          "text": [
            "100%|██████████| 240/240 [03:07<00:00,  1.28it/s]\n"
          ],
          "name": "stderr"
        },
        {
          "output_type": "stream",
          "text": [
            "Epoch 25, train loss: 0.2191, valid loss: 0.1815.\n",
            "Validation loss decreased (0.207761 --> 0.181462).  Saving model ...\n"
          ],
          "name": "stdout"
        },
        {
          "output_type": "stream",
          "text": [
            "\r  0%|          | 0/240 [00:00<?, ?it/s]"
          ],
          "name": "stderr"
        },
        {
          "output_type": "stream",
          "text": [
            "Mon Mar  2 17:14:14 2020 Epoch: 26\n"
          ],
          "name": "stdout"
        },
        {
          "output_type": "stream",
          "text": [
            "100%|██████████| 240/240 [03:06<00:00,  1.28it/s]\n",
            "  0%|          | 0/240 [00:00<?, ?it/s]"
          ],
          "name": "stderr"
        },
        {
          "output_type": "stream",
          "text": [
            "Epoch 26, train loss: 0.2137, valid loss: 0.2244.\n",
            "1 epochs of increasing val loss\n",
            "Mon Mar  2 17:17:43 2020 Epoch: 27\n"
          ],
          "name": "stdout"
        },
        {
          "output_type": "stream",
          "text": [
            "100%|██████████| 240/240 [03:07<00:00,  1.28it/s]\n",
            "  0%|          | 0/240 [00:00<?, ?it/s]"
          ],
          "name": "stderr"
        },
        {
          "output_type": "stream",
          "text": [
            "Epoch 27, train loss: 0.2078, valid loss: 0.2359.\n",
            "2 epochs of increasing val loss\n",
            "Mon Mar  2 17:21:12 2020 Epoch: 28\n"
          ],
          "name": "stdout"
        },
        {
          "output_type": "stream",
          "text": [
            "100%|██████████| 240/240 [03:06<00:00,  1.28it/s]\n",
            "  0%|          | 0/240 [00:00<?, ?it/s]"
          ],
          "name": "stderr"
        },
        {
          "output_type": "stream",
          "text": [
            "Epoch 28, train loss: 0.2114, valid loss: 0.2292.\n",
            "3 epochs of increasing val loss\n",
            "Mon Mar  2 17:24:41 2020 Epoch: 29\n"
          ],
          "name": "stdout"
        },
        {
          "output_type": "stream",
          "text": [
            "100%|██████████| 240/240 [03:06<00:00,  1.28it/s]\n",
            "  0%|          | 0/240 [00:00<?, ?it/s]"
          ],
          "name": "stderr"
        },
        {
          "output_type": "stream",
          "text": [
            "Epoch 29, train loss: 0.2173, valid loss: 0.2610.\n",
            "4 epochs of increasing val loss\n",
            "Mon Mar  2 17:28:10 2020 Epoch: 30\n"
          ],
          "name": "stdout"
        },
        {
          "output_type": "stream",
          "text": [
            "100%|██████████| 240/240 [03:06<00:00,  1.28it/s]\n",
            "  0%|          | 0/240 [00:00<?, ?it/s]"
          ],
          "name": "stderr"
        },
        {
          "output_type": "stream",
          "text": [
            "Epoch 30, train loss: 0.2066, valid loss: 0.2311.\n",
            "5 epochs of increasing val loss\n",
            "Mon Mar  2 17:31:39 2020 Epoch: 31\n"
          ],
          "name": "stdout"
        },
        {
          "output_type": "stream",
          "text": [
            "100%|██████████| 240/240 [03:06<00:00,  1.29it/s]\n",
            "  0%|          | 0/240 [00:00<?, ?it/s]"
          ],
          "name": "stderr"
        },
        {
          "output_type": "stream",
          "text": [
            "Epoch 31, train loss: 0.1954, valid loss: 0.2151.\n",
            "6 epochs of increasing val loss\n",
            "Mon Mar  2 17:35:07 2020 Epoch: 32\n"
          ],
          "name": "stdout"
        },
        {
          "output_type": "stream",
          "text": [
            "100%|██████████| 240/240 [03:07<00:00,  1.28it/s]\n",
            "  0%|          | 0/240 [00:00<?, ?it/s]"
          ],
          "name": "stderr"
        },
        {
          "output_type": "stream",
          "text": [
            "Epoch 32, train loss: 0.2018, valid loss: 0.2673.\n",
            "7 epochs of increasing val loss\n",
            "Mon Mar  2 17:38:36 2020 Epoch: 33\n"
          ],
          "name": "stdout"
        },
        {
          "output_type": "stream",
          "text": [
            "100%|██████████| 240/240 [03:06<00:00,  1.29it/s]\n",
            "  0%|          | 0/240 [00:00<?, ?it/s]"
          ],
          "name": "stderr"
        },
        {
          "output_type": "stream",
          "text": [
            "Epoch 33, train loss: 0.1922, valid loss: 0.1961.\n",
            "8 epochs of increasing val loss\n",
            "Mon Mar  2 17:42:04 2020 Epoch: 34\n"
          ],
          "name": "stdout"
        },
        {
          "output_type": "stream",
          "text": [
            "100%|██████████| 240/240 [03:06<00:00,  1.28it/s]\n",
            "  0%|          | 0/240 [00:00<?, ?it/s]"
          ],
          "name": "stderr"
        },
        {
          "output_type": "stream",
          "text": [
            "Epoch 34, train loss: 0.1843, valid loss: 0.1921.\n",
            "9 epochs of increasing val loss\n",
            "Mon Mar  2 17:45:33 2020 Epoch: 35\n"
          ],
          "name": "stdout"
        },
        {
          "output_type": "stream",
          "text": [
            "100%|██████████| 240/240 [03:07<00:00,  1.28it/s]\n",
            "  0%|          | 0/240 [00:00<?, ?it/s]"
          ],
          "name": "stderr"
        },
        {
          "output_type": "stream",
          "text": [
            "Epoch 35, train loss: 0.1912, valid loss: 0.2168.\n",
            "10 epochs of increasing val loss\n",
            "Mon Mar  2 17:49:02 2020 Epoch: 36\n"
          ],
          "name": "stdout"
        },
        {
          "output_type": "stream",
          "text": [
            "100%|██████████| 240/240 [03:07<00:00,  1.28it/s]\n"
          ],
          "name": "stderr"
        },
        {
          "output_type": "stream",
          "text": [
            "Epoch 36, train loss: 0.1892, valid loss: 0.2112.\n",
            "11 epochs of increasing val loss\n",
            "Stopping training\n"
          ],
          "name": "stdout"
        }
      ]
    },
    {
      "cell_type": "markdown",
      "metadata": {
        "id": "q-HFUvI7-KKc"
      },
      "source": [
        "# Test"
      ]
    },
    {
      "cell_type": "code",
      "metadata": {
        "id": "9y1l_-iq-KKd",
        "outputId": "e16370ef-508f-4a34-bf6d-44e9d32e8605"
      },
      "source": [
        "sample_submission = pd.read_csv(\"sample_submission.csv\")\n",
        "model.to(device)\n",
        "model.eval()\n",
        "pred_list = []\n",
        "names_list = []\n",
        "for images, image_names in testloader:\n",
        "    with torch.no_grad():\n",
        "        images = images.to(device)\n",
        "        output = model(images)\n",
        "        pred = F.softmax(output)\n",
        "        pred = torch.argmax(pred, dim=1).cpu().numpy()\n",
        "        pred_list += [p.item() for p in pred]\n",
        "        names_list += [name for name in image_names]\n",
        "\n",
        "\n",
        "sample_submission.image_name = names_list\n",
        "sample_submission.label = pred_list\n",
        "sample_submission[\"image_name\"]=sample_submission[\"image_name\"].apply(lambda x: x.split('/')[1])\n",
        "sample_submission.to_csv('submission_152_10-3.csv', index=False)"
      ],
      "execution_count": null,
      "outputs": [
        {
          "output_type": "stream",
          "text": [
            "/home/kor_romko/anaconda3/lib/python3.7/site-packages/ipykernel_launcher.py:10: UserWarning: Implicit dimension choice for softmax has been deprecated. Change the call to include dim=X as an argument.\n",
            "  # Remove the CWD from sys.path while we load stuff.\n"
          ],
          "name": "stderr"
        }
      ]
    }
  ]
}